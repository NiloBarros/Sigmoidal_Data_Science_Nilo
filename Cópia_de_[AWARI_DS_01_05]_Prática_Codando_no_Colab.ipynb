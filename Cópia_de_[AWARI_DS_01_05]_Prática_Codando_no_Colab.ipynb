{
  "nbformat": 4,
  "nbformat_minor": 0,
  "metadata": {
    "colab": {
      "provenance": [],
      "include_colab_link": true
    },
    "kernelspec": {
      "name": "python3",
      "display_name": "Python 3"
    },
    "language_info": {
      "name": "python"
    }
  },
  "cells": [
    {
      "cell_type": "markdown",
      "metadata": {
        "id": "view-in-github",
        "colab_type": "text"
      },
      "source": [
        "<a href=\"https://colab.research.google.com/github/NiloBarros/Sigmoidal_Data_Science_Nilo/blob/main/C%C3%B3pia_de_%5BAWARI_DS_01_05%5D_Pr%C3%A1tica_Codando_no_Colab.ipynb\" target=\"_parent\"><img src=\"https://colab.research.google.com/assets/colab-badge.svg\" alt=\"Open In Colab\"/></a>"
      ]
    },
    {
      "cell_type": "markdown",
      "source": [
        "![header-notebooks.png](data:image/png;base64,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)\n",
        "\n",
        "Prática da **Aula 01: Introdução a Data Science I**, do curso de **Data Science** da **[Awari](https://awari.com.br/)**. Para utilizá-la, vá no menu \"Arquivo\" e, em seguida, na opção \"Salvar uma cópia no Drive\". Isto criará uma cópia deste notebook em uma pasta chamada \"Colab Notebooks\", no seu Google Drive pessoal. Use a cópia para criar novas células de código ou executar as células desta prática.\n",
        "\n",
        "---"
      ],
      "metadata": {
        "id": "zVVTP8YtbD2q"
      }
    },
    {
      "cell_type": "markdown",
      "source": [
        "# **Codando no Google Colab**\n",
        "\n",
        "Este é o ambiente chamado **Google Colaboratory** ou simplesmente **Google Colab**. Vamos usá-lo durante todo o curso e, provavelmente, ele será uma de suas principais ferramentas no trabalho como cientista de dados.\n",
        "\n",
        "Nesta prática, vamos conhecer e exercitar o que o Colab nos permite fazer."
      ],
      "metadata": {
        "id": "ZrEQQJlFbUCW"
      }
    },
    {
      "cell_type": "markdown",
      "source": [
        "## **Notebooks**\n",
        "\n",
        "Primeiro, é importante conhecer que todo este documento é um **notebook** (\"caderno de anotações\", em tradução livre).\n",
        "\n",
        "O nome deriva de outra ferramenta, chamada **[Jupyter Notebook](https://jupyter.org/)**, que deu origem a este tipo de ambiente.\n",
        "\n",
        "Basicamente, notebooks para a Ciência de Dados são ambientes que permitem aliar **documentação** do que está sendo feito e **programação interativa**, isto é, executar código à medida em que ele é escrito. Vamos ver como cada uma dessas partes funciona."
      ],
      "metadata": {
        "id": "0bt0_zD8b5fO"
      }
    },
    {
      "cell_type": "markdown",
      "source": [
        "### **Documentação**\n",
        "\n",
        "A documentação do que está sendo feita é possível de **células de texto**, como esta que você está lendo ou como as outras acima desta.\n",
        "\n",
        "Abaixo, temos uma célula de texto vazia. Experiemente dar dois cliques nela e ver o que acontece:"
      ],
      "metadata": {
        "id": "5FIzFkyZdWUe"
      }
    },
    {
      "cell_type": "markdown",
      "source": [
        "*Dê dois cliques nessa célula...*"
      ],
      "metadata": {
        "id": "hZuoZfYSdo4y"
      }
    },
    {
      "cell_type": "markdown",
      "source": [
        "Se você deu dois cliques sobre a célula, verá que é possível digitar texto nela. Experimente brincar um pouco.\n",
        "\n",
        "Para criar uma nova célula de texto, clique no botão \"+ Texto\", no alto da página ou que aparece quando você passa o mouse sobre a barra inferior desta célula em que estamos."
      ],
      "metadata": {
        "id": "WYlZ79bQdwaD"
      }
    },
    {
      "cell_type": "markdown",
      "source": [
        "#### **Markdown**\n",
        "\n",
        "O formato utilizado para escrever texto nessas células é conhecido como **Markdown**. É uma maneira fácil de redigir e formatar textos com alguns comandos muito simples.\n",
        "\n",
        "Por exemplo, uma palavra colocada entre asteriscos (\\*) simples é formatada em itálico. Outra palavra colocada entre asteriscos duplos (\\**) é formata como negrito.\n",
        "\n",
        "Para aprender todas as formatações possíveis, confira o **[Markdown Guide](https://www.markdownguide.org/basic-syntax/)**.\n",
        "\n",
        "Quando você tiver um tempo, procure estudá-lo. É úti. para você documentar melhor seus projetos de Ciência de Dados em notebooks.\n",
        "\n",
        "Além de permitir escrever textos, o Google Colab oferece outros recursos especiais, que é a inserção de emojis (✅ ⛵ ⛱ 🚘) e de **fórmulas matemáticas** em células de textos, como por exemplo:\n",
        "\n",
        "*\\begin{align}\n",
        "        P(A \\mid B) = \\frac{P(B \\mid A) \\, P(A)}{P(B)}\n",
        "    \\end{align}*\n",
        "\n",
        "(A fórmula acima é chamada de Teorema de Bayes e é muito famosa em estatística. Permite calcular a probabilidade de um evento ocorrer um evento A dado que um evento B já ocorreu.)"
      ],
      "metadata": {
        "id": "S-1KWTcReEhu"
      }
    },
    {
      "cell_type": "markdown",
      "source": [
        "### **Programação interativa**\n",
        "\n",
        "A programação interativa é possível por meio de **células de código**, como a abaixo. Estas células são especiais.\n",
        "\n",
        "Elas permitem escrever na linguagem de programação Python (que veremos ao longo do curso) e executar as instruções em tempo real.\n",
        "\n",
        "Para ver como funcione, clique sobre a célula a seguir e tecle Ctrl Enter ou clique no botão de \"play\" que há na frente da célula."
      ],
      "metadata": {
        "id": "54jsAJxlc4Gg"
      }
    },
    {
      "cell_type": "code",
      "source": [
        "# Exemplo de célula de código\n",
        "print(\"Olá, Mundo!\")"
      ],
      "metadata": {
        "id": "Qljdyjuab3sc"
      },
      "execution_count": null,
      "outputs": []
    },
    {
      "cell_type": "markdown",
      "source": [
        "Ao executar a célula, ela retornará a mensagem \"Ola, Mundo!\" logo abaixo.\n",
        "\n",
        "Para você perder o medo e se ambientar, faça um cálculo simples na célula abaixo. Digite, por exemplo ```2 + 2``` e dar Ctrl Enter ou clicar no botão de play.\n",
        "\n"
      ],
      "metadata": {
        "id": "_eeedwaNfml8"
      }
    },
    {
      "cell_type": "code",
      "source": [
        "# Digite o código na linha abaixo\n"
      ],
      "metadata": {
        "id": "bOjFmTIrbMlk"
      },
      "execution_count": null,
      "outputs": []
    },
    {
      "cell_type": "markdown",
      "source": [
        "A célula retornará o resultado da soma, que, no caso de ```2 + 2```, é o número ```4```."
      ],
      "metadata": {
        "id": "xb4-i2UMgK-R"
      }
    },
    {
      "cell_type": "markdown",
      "source": [
        "Podemos executar códigos bem mais complexos do que isso, é claro.\n",
        "\n",
        "Experimente executar a célula de código a seguir para ver o resultado (a execução pode demorar alguns instantes se você está executando este notebook pela primeira vez):"
      ],
      "metadata": {
        "id": "Y-sXfrAUhjFt"
      }
    },
    {
      "cell_type": "code",
      "source": [
        "# Execute este código e analise o que acontece\n",
        "import seaborn as sns\n",
        "sns.set_theme(style=\"ticks\")\n",
        "\n",
        "df = sns.load_dataset(\"penguins\")\n",
        "sns.pairplot(df, hue=\"species\")"
      ],
      "metadata": {
        "id": "Nd0UooAjiOAZ"
      },
      "execution_count": null,
      "outputs": []
    },
    {
      "cell_type": "markdown",
      "source": [
        "Você verá um mosaico de gráficos na tela.\n",
        "\n",
        "Estes gráficos são chamados de *scatter plot* ou *gráficos de dispersão* e analisam a distribuição das espécies de pinguins.\n",
        "\n",
        "Os gráficos são um tutorial de exemplo da [Seaborn](https://seaborn.pydata.org/examples/scatterplot_matrix.html), uma biblioteca para geração de gráficos que veremos ao longo do curso.\n",
        "\n",
        "Não se preocupe em entender estes códigos mais complexos agora. O importante é entender o que o Google Colab possibilita."
      ],
      "metadata": {
        "id": "ImCfRi49iee1"
      }
    },
    {
      "cell_type": "markdown",
      "source": [
        "## **Recursos adicionais**\n",
        "\n",
        "Aqui do lado esquerdo da tela, você verá alguns botões, como um menu hambuguer, uma lupa, um \\{x} e uma pasta.\n",
        "\n",
        "O **menu hamburguer** permite ver o índice deste notebook (a lista de títulos de células de texto).\n",
        "\n",
        "O **menu lupa** permite localizar e substituir termos ao longo do notebook.\n",
        "\n",
        "O **menu \\{x}** é um inspetor de variáveis.\n",
        "\n",
        "O **menu pasta** permite conectar pastas do seu Google Drive e importar arquivos de dados para serem manipulados em um notebook, por exemplo (você verá mais sobre isso em práticas de aulas).\n",
        "\n",
        "Além disso, você pode compartilhar seus notebooks como outros documentos do Google e tem uma série de outras opções para explorar.\n",
        "\n",
        "Sugerimos que você veja os menus e a Ajuda para se inteirar mais. Também procure acompanhar as práticas fornecidas pelo instrutor para se familiarizar com o ambiente. Aos poucos, ele se tornará o local natural onde você aprenderá, praticará e desenvolverá Ciência de Dados de forma profissional."
      ],
      "metadata": {
        "id": "sSTARgcpjU7R"
      }
    },
    {
      "cell_type": "markdown",
      "source": [
        "## **Sugestões ao instrutor**\n",
        "\n",
        "Sugere-se que o instrutor acrescente dicas e instruções que considerar relevantes para que os alunos conheçam e usem o Google Colab. O instrutor pode dar sequência e incentivar que os alunos criem mais células de texto e de código para reforçar o uso da ferramenta."
      ],
      "metadata": {
        "id": "rBV2zQDwnc__"
      }
    },
    {
      "cell_type": "markdown",
      "source": [
        "---\n",
        "\n",
        "Notebook utilizado para fins educacionais da **Awari**.\n",
        "\n",
        "**© AWARI. Todos os direitos reservados.**"
      ],
      "metadata": {
        "id": "KGzG56wGbO6E"
      }
    }
  ]
}